{
 "cells": [
  {
   "cell_type": "markdown",
   "metadata": {},
   "source": [
    "# Section 7.2 - API Mini-Project"
   ]
  },
  {
   "cell_type": "markdown",
   "metadata": {},
   "source": [
    "This exercise will require you to pull some data from https://data.nasdaq.com/ (formerly Quandl API)."
   ]
  },
  {
   "cell_type": "markdown",
   "metadata": {},
   "source": [
    "As a first step, you will need to register a free account on the https://data.nasdaq.com/ website."
   ]
  },
  {
   "cell_type": "markdown",
   "metadata": {},
   "source": [
    "After you register, you will be provided with a unique API key, that you should store:\n",
    "\n",
    "*Note*: Use a `.env` file and put your key in there and `python-dotenv` to access it in this notebook. \n",
    "\n",
    "The code below uses a key that was used when generating this project but has since been deleted. Never submit your keys to source control. There is a `.env-example` file in this repository to illusrtate what you need. Copy that to a file called `.env` and use your own api key in that `.env` file. Make sure you also have a `.gitignore` file with a line for `.env` added to it. \n",
    "\n",
    "The standard Python gitignore is [here](https://github.com/github/gitignore/blob/master/Python.gitignore) you can just copy that. "
   ]
  },
  {
   "cell_type": "code",
   "execution_count": 174,
   "metadata": {},
   "outputs": [
    {
     "name": "stdout",
     "output_type": "stream",
     "text": [
      "NSibdUCkzhi2xUabnnYE\n"
     ]
    }
   ],
   "source": [
    "# get api key from your .env file\n",
    "import os\n",
    "from dotenv import load_dotenv\n",
    "\n",
    "load_dotenv()\n",
    "API_KEY = os.getenv('NASDAQ_API_KEY')\n",
    "\n",
    "print(API_KEY)"
   ]
  },
  {
   "cell_type": "markdown",
   "metadata": {},
   "source": [
    "Nasdaq Data has a large number of data sources, but, unfortunately, most of them require a Premium subscription. Still, there are also a good number of free datasets."
   ]
  },
  {
   "cell_type": "markdown",
   "metadata": {},
   "source": [
    "For this mini project, we will focus on equities data from the Frankfurt Stock Exhange (FSE), which is available for free. We'll try and analyze the stock prices of a company called Carl Zeiss Meditec, which manufactures tools for eye examinations, as well as medical lasers for laser eye surgery: https://www.zeiss.com/meditec/int/home.html. The company is listed under the stock ticker AFX_X."
   ]
  },
  {
   "cell_type": "markdown",
   "metadata": {},
   "source": [
    "You can find the detailed Nasdaq Data API instructions here: https://docs.data.nasdaq.com/docs/in-depth-usage"
   ]
  },
  {
   "cell_type": "markdown",
   "metadata": {},
   "source": [
    "While there is a dedicated Python package for connecting to the Nasdaq API, we would prefer that you use the *requests* package, which can be easily downloaded using *pip* or *conda*. You can find the documentation for the package here: http://docs.python-requests.org/en/master/ "
   ]
  },
  {
   "cell_type": "markdown",
   "metadata": {},
   "source": [
    "Finally, apart from the *requests* package, you are encouraged to not use any third party Python packages, such as *pandas*, and instead focus on what's available in the Python Standard Library (the *collections* module might come in handy: https://pymotw.com/3/collections/).\n",
    "Also, since you won't have access to DataFrames, you are encouraged to us Python's native data structures - preferably dictionaries, though some questions can also be answered using lists.\n",
    "You can read more on these data structures here: https://docs.python.org/3/tutorial/datastructures.html"
   ]
  },
  {
   "cell_type": "markdown",
   "metadata": {},
   "source": [
    "Keep in mind that the JSON responses you will be getting from the API map almost one-to-one to Python's dictionaries. Unfortunately, they can be very nested, so make sure you read up on indexing dictionaries in the documentation provided above."
   ]
  },
  {
   "cell_type": "code",
   "execution_count": 175,
   "metadata": {},
   "outputs": [],
   "source": [
    "# First, import the relevant modules\n",
    "import requests\n",
    "from copy import deepcopy\n",
    "from math import floor"
   ]
  },
  {
   "cell_type": "markdown",
   "metadata": {},
   "source": [
    "Note: API's can change a bit with each version, for this exercise it is reccomended to use the nasdaq api at `https://data.nasdaq.com/api/v3/`. This is the same api as what used to be quandl so `https://www.quandl.com/api/v3/` should work too.\n",
    "\n",
    "Hint: We are looking for the `AFX_X` data on the `datasets/FSE/` dataset."
   ]
  },
  {
   "cell_type": "code",
   "execution_count": 176,
   "metadata": {},
   "outputs": [],
   "source": [
    "# Now, call the Nasdaq API and pull out a small sample of the data (only one day) to get a glimpse\n",
    "# into the JSON structure that will be returned\n",
    "\n",
    "url = f\"https://data.nasdaq.com/api/v3/datasets/WIKI/FB/data.json?api_key={API_KEY}\"\n",
    "res = requests.get(url)"
   ]
  },
  {
   "cell_type": "code",
   "execution_count": 177,
   "metadata": {},
   "outputs": [],
   "source": [
    "output = res.json()\n",
    "o_copy = deepcopy(output[\"dataset_data\"])\n",
    "o_data = o_copy[\"data\"]\n",
    "o_copy.pop(\"data\")\n",
    "col_names = o_copy[\"column_names\"]"
   ]
  },
  {
   "cell_type": "code",
   "execution_count": 178,
   "metadata": {},
   "outputs": [],
   "source": [
    "# Inspect the JSON structure of the object you created, and take note of how nested it is,\n",
    "# as well as the overall structure"
   ]
  },
  {
   "cell_type": "markdown",
   "metadata": {},
   "source": [
    "These are your tasks for this mini project:\n",
    "\n",
    "1. Collect data from the Franfurt Stock Exchange, for the ticker AFX_X, for the whole year 2017 (keep in mind that the date format is YYYY-MM-DD).\n",
    "2. Convert the returned JSON object into a Python dictionary.\n",
    "3. Calculate what the highest and lowest opening prices were for the stock in this period.\n",
    "4. What was the largest change in any one day (based on High and Low price)?\n",
    "5. What was the largest change between any two days (based on Closing Price)?\n",
    "6. What was the average daily trading volume during this year?\n",
    "7. (Optional) What was the median trading volume during this year. (Note: you may need to implement your own function for calculating the median.)"
   ]
  },
  {
   "cell_type": "code",
   "execution_count": 179,
   "metadata": {},
   "outputs": [],
   "source": [
    "#1\n",
    "def get_all_year(year,data):\n",
    "    temp = []\n",
    "    \n",
    "    for i in data:\n",
    "        if i[0][0:4] == year:\n",
    "            temp.append(i)\n",
    "    \n",
    "    return temp\n",
    "\n",
    "# A:\n",
    "data_2017 = get_all_year(\"2017\",o_data)"
   ]
  },
  {
   "cell_type": "code",
   "execution_count": 180,
   "metadata": {},
   "outputs": [],
   "source": [
    "#2\n",
    "\n",
    "# A:\n",
    "#NOTE: This was already done with the .json() method above"
   ]
  },
  {
   "cell_type": "code",
   "execution_count": 181,
   "metadata": {},
   "outputs": [
    {
     "name": "stdout",
     "output_type": "stream",
     "text": [
      "183.51\n",
      "116.03\n"
     ]
    }
   ],
   "source": [
    "#3\n",
    "\n",
    "def get_all(column,columns,data):\n",
    "    ind = columns.index(column)\n",
    "    temp = []\n",
    "    \n",
    "    for i in data:\n",
    "        temp.append(i[ind])\n",
    "    \n",
    "    return temp\n",
    "\n",
    "# A:\n",
    "print(max(get_all(\"Open\",col_names,data_2017)),min(get_all(\"Open\",col_names,data_2017)),sep=\"\\n\")"
   ]
  },
  {
   "cell_type": "code",
   "execution_count": 182,
   "metadata": {},
   "outputs": [
    {
     "data": {
      "text/plain": [
       "8.97999999999999"
      ]
     },
     "execution_count": 182,
     "metadata": {},
     "output_type": "execute_result"
    }
   ],
   "source": [
    "#4\n",
    "id_high = col_names.index(\"High\")\n",
    "id_low = col_names.index(\"Low\")\n",
    "high_low_diff = [abs(i[id_high] - i[id_low]) for i in data_2017]\n",
    "\n",
    "# A:\n",
    "max(high_low_diff)"
   ]
  },
  {
   "cell_type": "code",
   "execution_count": 183,
   "metadata": {},
   "outputs": [
    {
     "data": {
      "text/plain": [
       "['Date',\n",
       " 'Open',\n",
       " 'High',\n",
       " 'Low',\n",
       " 'Close',\n",
       " 'Volume',\n",
       " 'Ex-Dividend',\n",
       " 'Split Ratio',\n",
       " 'Adj. Open',\n",
       " 'Adj. High',\n",
       " 'Adj. Low',\n",
       " 'Adj. Close',\n",
       " 'Adj. Volume']"
      ]
     },
     "execution_count": 183,
     "metadata": {},
     "output_type": "execute_result"
    }
   ],
   "source": [
    "col_names"
   ]
  },
  {
   "cell_type": "code",
   "execution_count": 190,
   "metadata": {},
   "outputs": [
    {
     "name": "stdout",
     "output_type": "stream",
     "text": [
      "176.46 | 177.92 | -1.4599999999999795\n",
      "177.92 | 177.62 | 0.29999999999998295\n",
      "177.62 | 175.99 | 1.6299999999999955\n",
      "175.99 | 177.2 | -1.2099999999999795\n",
      "177.2 | 177.45 | -0.25\n",
      "177.45 | 177.89 | -0.4399999999999977\n",
      "177.89 | 179.51 | -1.6200000000000045\n",
      "179.51 | 180.82 | -1.3100000000000023\n",
      "180.82 | 180.18 | 0.6399999999999864\n",
      "180.18 | 178.39 | 1.7900000000000205\n",
      "178.39 | 178.3 | 0.08999999999997499\n",
      "178.3 | 176.96 | 1.3400000000000034\n",
      "176.96 | 179.04 | -2.079999999999984\n",
      "179.04 | 179.0 | 0.03999999999999204\n",
      "179.0 | 180.14 | -1.1399999999999864\n",
      "180.14 | 176.06 | 4.079999999999984\n",
      "176.06 | 172.83 | 3.2299999999999898\n",
      "172.83 | 171.47 | 1.3600000000000136\n",
      "171.47 | 175.1 | -3.6299999999999955\n",
      "175.1 | 177.18 | -2.0800000000000125\n",
      "177.18 | 175.13 | 2.0500000000000114\n",
      "175.13 | 182.42 | -7.289999999999992\n",
      "182.42 | 183.03 | -0.6100000000000136\n",
      "183.03 | 182.78 | 0.25\n",
      "182.78 | 180.87 | 1.9099999999999966\n",
      "180.87 | 181.86 | -0.9900000000000091\n",
      "181.86 | 178.74 | 3.1200000000000045\n",
      "178.74 | 179.0 | -0.2599999999999909\n",
      "179.0 | 179.59 | -0.5900000000000034\n",
      "179.59 | 177.95 | 1.6400000000000148\n",
      "177.95 | 178.07 | -0.12000000000000455\n",
      "178.07 | 178.77 | -0.700000000000017\n",
      "178.77 | 178.46 | 0.3100000000000023\n",
      "178.46 | 179.3 | -0.8400000000000034\n",
      "179.3 | 180.25 | -0.9499999999999886\n",
      "180.25 | 180.17 | 0.0800000000000125\n",
      "180.17 | 178.92 | 1.25\n",
      "178.92 | 178.92 | 0.0\n",
      "178.92 | 182.66 | -3.740000000000009\n",
      "182.66 | 180.06 | 2.5999999999999943\n",
      "180.06 | 179.87 | 0.18999999999999773\n",
      "179.87 | 177.88 | 1.990000000000009\n",
      "177.88 | 170.63 | 7.25\n",
      "170.63 | 170.6 | 0.030000000000001137\n",
      "170.6 | 171.8 | -1.200000000000017\n",
      "171.8 | 171.27 | 0.5300000000000011\n",
      "171.27 | 174.98 | -3.7099999999999795\n",
      "174.98 | 174.56 | 0.4199999999999875\n",
      "174.56 | 176.03 | -1.4699999999999989\n",
      "176.03 | 176.11 | -0.0800000000000125\n",
      "176.11 | 174.52 | 1.5900000000000034\n",
      "174.52 | 173.74 | 0.7800000000000011\n",
      "173.74 | 172.55 | 1.1899999999999977\n",
      "172.55 | 172.74 | -0.18999999999999773\n",
      "172.74 | 171.59 | 1.1500000000000057\n",
      "171.59 | 172.5 | -0.9099999999999966\n",
      "172.5 | 172.23 | 0.27000000000001023\n",
      "172.23 | 171.24 | 0.9899999999999807\n",
      "171.24 | 168.42 | 2.8200000000000216\n",
      "168.42 | 169.96 | -1.5400000000000205\n",
      "169.96 | 169.47 | 0.4900000000000091\n",
      "169.47 | 170.81 | -1.3400000000000034\n",
      "170.81 | 168.73 | 2.0800000000000125\n",
      "168.73 | 167.68 | 1.049999999999983\n",
      "167.68 | 164.21 | 3.469999999999999\n",
      "164.21 | 162.87 | 1.3400000000000034\n",
      "162.87 | 170.54 | -7.6699999999999875\n",
      "170.54 | 171.11 | -0.5700000000000216\n",
      "171.11 | 172.17 | -1.0599999999999739\n",
      "172.17 | 172.52 | -0.35000000000002274\n",
      "172.52 | 170.01 | 2.5100000000000193\n",
      "170.01 | 171.58 | -1.5700000000000216\n",
      "171.58 | 170.96 | 0.6200000000000045\n",
      "170.96 | 173.05 | -2.0900000000000034\n",
      "173.05 | 172.96 | 0.09000000000000341\n",
      "172.96 | 173.51 | -0.549999999999983\n",
      "173.51 | 170.95 | 2.5600000000000023\n",
      "170.95 | 173.21 | -2.2600000000000193\n",
      "173.21 | 172.09 | 1.1200000000000045\n",
      "172.09 | 170.72 | 1.3700000000000045\n",
      "170.72 | 172.02 | -1.3000000000000114\n",
      "172.02 | 172.0 | 0.020000000000010232\n",
      "172.0 | 169.92 | 2.0800000000000125\n",
      "169.92 | 168.05 | 1.8699999999999761\n",
      "168.05 | 167.24 | 0.8100000000000023\n",
      "167.24 | 166.32 | 0.9200000000000159\n",
      "166.32 | 167.74 | -1.420000000000016\n",
      "167.74 | 168.71 | -0.9699999999999989\n",
      "168.71 | 169.64 | -0.9299999999999784\n",
      "169.64 | 167.78 | 1.8599999999999852\n",
      "167.78 | 167.41 | 0.37000000000000455\n",
      "167.41 | 166.91 | 0.5\n",
      "166.91 | 170.0 | -3.0900000000000034\n",
      "170.0 | 171.0 | -1.0\n",
      "171.0 | 170.75 | 0.25\n",
      "170.75 | 168.08 | 2.6699999999999875\n",
      "168.08 | 167.4 | 0.6800000000000068\n",
      "167.4 | 171.18 | -3.780000000000001\n",
      "171.18 | 171.23 | -0.04999999999998295\n",
      "171.23 | 171.98 | -0.75\n",
      "171.98 | 169.62 | 2.359999999999985\n",
      "169.62 | 168.59 | 1.0300000000000011\n",
      "168.59 | 169.25 | -0.6599999999999966\n",
      "169.25 | 169.86 | -0.6100000000000136\n",
      "169.86 | 169.25 | 0.6100000000000136\n",
      "169.25 | 172.45 | -3.1999999999999886\n",
      "172.45 | 170.44 | 2.009999999999991\n",
      "170.44 | 165.61 | 4.829999999999984\n",
      "165.61 | 165.28 | 0.3300000000000125\n",
      "165.28 | 166.0 | -0.7199999999999989\n",
      "166.0 | 164.43 | 1.5699999999999932\n",
      "164.43 | 164.53 | -0.09999999999999432\n",
      "164.53 | 164.14 | 0.3900000000000148\n",
      "164.14 | 162.86 | 1.2799999999999727\n",
      "162.86 | 159.73 | 3.130000000000024\n",
      "159.73 | 159.97 | -0.2400000000000091\n",
      "159.97 | 159.26 | 0.710000000000008\n",
      "159.26 | 158.9 | 0.3599999999999852\n",
      "158.9 | 155.27 | 3.6299999999999955\n",
      "155.27 | 153.5 | 1.7700000000000102\n",
      "153.5 | 151.44 | 2.0600000000000023\n",
      "151.44 | 148.82 | 2.6200000000000045\n",
      "148.82 | 150.34 | -1.5200000000000102\n",
      "150.34 | 148.43 | 1.9099999999999966\n",
      "148.43 | 150.98 | -2.549999999999983\n",
      "150.98 | 151.04 | -0.060000000000002274\n",
      "151.04 | 153.24 | -2.200000000000017\n",
      "153.24 | 150.58 | 2.6599999999999966\n",
      "150.58 | 153.59 | -3.009999999999991\n",
      "153.59 | 155.07 | -1.4799999999999898\n",
      "155.07 | 153.4 | 1.6699999999999875\n",
      "153.4 | 153.91 | -0.5099999999999909\n",
      "153.91 | 152.25 | 1.6599999999999966\n",
      "152.25 | 152.87 | -0.6200000000000045\n",
      "152.87 | 150.64 | 2.230000000000018\n",
      "150.64 | 149.8 | 0.839999999999975\n",
      "149.8 | 150.25 | -0.44999999999998863\n",
      "150.25 | 150.68 | -0.4300000000000068\n",
      "150.68 | 148.44 | 2.240000000000009\n",
      "148.44 | 149.63 | -1.1899999999999977\n",
      "149.63 | 154.71 | -5.0800000000000125\n",
      "154.71 | 153.12 | 1.5900000000000034\n",
      "153.12 | 152.81 | 0.3100000000000023\n",
      "152.81 | 153.63 | -0.8199999999999932\n",
      "153.63 | 153.61 | 0.01999999999998181\n",
      "153.61 | 151.53 | 2.0800000000000125\n",
      "151.53 | 151.46 | 0.06999999999999318\n",
      "151.46 | 152.38 | -0.9199999999999875\n",
      "152.38 | 152.13 | 0.25\n",
      "152.13 | 151.96 | 0.1699999999999875\n",
      "151.96 | 150.04 | 1.920000000000016\n",
      "150.04 | 148.07 | 1.9699999999999989\n",
      "148.07 | 148.24 | -0.17000000000001592\n",
      "148.24 | 148.06 | 0.18000000000000682\n",
      "148.06 | 147.66 | 0.4000000000000057\n",
      "147.66 | 144.85 | 2.8100000000000023\n",
      "144.85 | 149.78 | -4.930000000000007\n",
      "149.78 | 150.19 | -0.4099999999999966\n",
      "150.19 | 150.33 | -0.14000000000001478\n",
      "150.33 | 150.04 | 0.29000000000002046\n",
      "150.04 | 150.29 | -0.25\n",
      "150.29 | 150.48 | -0.18999999999999773\n",
      "150.48 | 151.06 | -0.5800000000000125\n",
      "151.06 | 150.24 | 0.8199999999999932\n",
      "150.24 | 150.85 | -0.6099999999999852\n",
      "150.85 | 151.8 | -0.950000000000017\n",
      "151.8 | 152.78 | -0.9799999999999898\n",
      "152.78 | 152.46 | 0.3199999999999932\n",
      "152.46 | 150.25 | 2.210000000000008\n",
      "150.25 | 147.7 | 2.5500000000000114\n",
      "147.7 | 146.56 | 1.1399999999999864\n",
      "146.56 | 146.49 | 0.06999999999999318\n",
      "146.49 | 145.47 | 1.0200000000000102\n",
      "145.47 | 143.68 | 1.789999999999992\n",
      "143.68 | 143.8 | -0.12000000000000455\n",
      "143.8 | 142.27 | 1.5300000000000011\n",
      "142.27 | 140.96 | 1.3100000000000023\n",
      "140.96 | 141.42 | -0.45999999999997954\n",
      "141.42 | 139.39 | 2.030000000000001\n",
      "139.39 | 139.58 | -0.19000000000002615\n",
      "139.58 | 139.92 | -0.339999999999975\n",
      "139.92 | 141.04 | -1.1200000000000045\n",
      "141.04 | 140.78 | 0.2599999999999909\n",
      "140.78 | 141.17 | -0.38999999999998636\n",
      "141.17 | 141.85 | -0.6800000000000068\n",
      "141.85 | 141.73 | 0.12000000000000455\n",
      "141.73 | 142.28 | -0.5500000000000114\n",
      "142.28 | 142.05 | 0.22999999999998977\n",
      "142.05 | 142.41 | -0.3599999999999852\n",
      "142.41 | 142.65 | -0.2400000000000091\n",
      "142.65 | 141.76 | 0.8900000000000148\n",
      "141.76 | 140.32 | 1.4399999999999977\n",
      "140.32 | 140.34 | -0.020000000000010232\n",
      "140.34 | 139.53 | 0.8100000000000023\n",
      "139.53 | 139.59 | -0.060000000000002274\n",
      "139.59 | 138.51 | 1.0800000000000125\n",
      "138.51 | 139.94 | -1.4300000000000068\n",
      "139.94 | 139.84 | 0.09999999999999432\n",
      "139.84 | 139.99 | -0.15000000000000568\n",
      "139.99 | 139.72 | 0.27000000000001023\n",
      "139.72 | 139.32 | 0.4000000000000057\n",
      "139.32 | 139.6 | -0.28000000000000114\n",
      "139.6 | 138.79 | 0.8100000000000023\n",
      "138.79 | 138.24 | 0.549999999999983\n",
      "138.24 | 137.72 | 0.5200000000000102\n",
      "137.72 | 137.3 | 0.4199999999999875\n",
      "137.3 | 137.42 | -0.11999999999997613\n",
      "137.42 | 137.17 | 0.25\n",
      "137.17 | 136.76 | 0.4099999999999966\n",
      "136.76 | 137.42 | -0.6599999999999966\n",
      "137.42 | 135.54 | 1.8799999999999955\n",
      "135.54 | 136.41 | -0.8700000000000045\n",
      "136.41 | 135.44 | 0.9699999999999989\n",
      "135.44 | 135.36 | 0.07999999999998408\n",
      "135.36 | 136.12 | -0.7599999999999909\n",
      "136.12 | 133.72 | 2.4000000000000057\n",
      "133.72 | 133.53 | 0.18999999999999773\n",
      "133.53 | 133.84 | -0.3100000000000023\n",
      "133.84 | 133.44 | 0.4000000000000057\n",
      "133.44 | 133.85 | -0.4099999999999966\n",
      "133.85 | 134.05 | -0.20000000000001705\n",
      "134.05 | 134.19 | -0.13999999999998636\n",
      "134.19 | 134.14 | 0.05000000000001137\n",
      "134.14 | 134.2 | -0.060000000000002274\n",
      "134.2 | 131.84 | 2.359999999999985\n",
      "131.84 | 132.06 | -0.21999999999999886\n",
      "132.06 | 130.98 | 1.0800000000000125\n",
      "130.98 | 130.84 | 0.13999999999998636\n",
      "130.84 | 133.23 | -2.3899999999999864\n",
      "133.23 | 130.32 | 2.9099999999999966\n",
      "130.32 | 130.98 | -0.6599999999999966\n",
      "130.98 | 132.18 | -1.200000000000017\n",
      "132.18 | 132.78 | -0.5999999999999943\n",
      "132.78 | 131.48 | 1.3000000000000114\n",
      "131.48 | 129.37 | 2.109999999999985\n",
      "129.37 | 128.93 | 0.4399999999999977\n",
      "128.93 | 127.04 | 1.8900000000000006\n",
      "127.04 | 127.55 | -0.5099999999999909\n",
      "127.55 | 127.92 | -0.37000000000000455\n",
      "127.92 | 127.87 | 0.04999999999999716\n",
      "127.87 | 128.34 | -0.46999999999999886\n",
      "128.34 | 126.62 | 1.7199999999999989\n",
      "126.62 | 126.09 | 0.5300000000000011\n",
      "126.09 | 124.35 | 1.740000000000009\n",
      "124.35 | 124.9 | -0.5500000000000114\n",
      "124.9 | 123.41 | 1.490000000000009\n",
      "123.41 | 120.67 | 2.739999999999995\n",
      "120.67 | 118.69 | 1.980000000000004\n",
      "118.69 | 116.86 | 1.8299999999999983\n"
     ]
    },
    {
     "data": {
      "text/plain": [
       "7.6699999999999875"
      ]
     },
     "execution_count": 190,
     "metadata": {},
     "output_type": "execute_result"
    }
   ],
   "source": [
    "#5\n",
    "id_close = col_names.index(\"Close\")\n",
    "day_to_day_diffs = []\n",
    "\n",
    "for i in range(0,len(data_2017)-1):\n",
    "    x = data_2017[i][id_close] - data_2017[i+1][id_close]\n",
    "    day_to_day_diffs.append(abs(x))\n",
    "    print(data_2017[i][id_close],data_2017[i+1][id_close],x,sep=\" | \")\n",
    "\n",
    "# A:\n",
    "max(day_to_day_diffs)"
   ]
  },
  {
   "cell_type": "code",
   "execution_count": 189,
   "metadata": {},
   "outputs": [
    {
     "data": {
      "text/plain": [
       "[['2017-01-04',\n",
       "  117.55,\n",
       "  119.66,\n",
       "  117.29,\n",
       "  118.69,\n",
       "  19630932.0,\n",
       "  0.0,\n",
       "  1.0,\n",
       "  117.55,\n",
       "  119.66,\n",
       "  117.29,\n",
       "  118.69,\n",
       "  19630932.0],\n",
       " ['2017-01-03',\n",
       "  116.03,\n",
       "  117.84,\n",
       "  115.51,\n",
       "  116.86,\n",
       "  20663912.0,\n",
       "  0.0,\n",
       "  1.0,\n",
       "  116.03,\n",
       "  117.84,\n",
       "  115.51,\n",
       "  116.86,\n",
       "  20663912.0]]"
      ]
     },
     "execution_count": 189,
     "metadata": {},
     "output_type": "execute_result"
    }
   ],
   "source": [
    "data_2017[-2:]"
   ]
  },
  {
   "cell_type": "code",
   "execution_count": 186,
   "metadata": {},
   "outputs": [
    {
     "data": {
      "text/plain": [
       "16468073.856"
      ]
     },
     "execution_count": 186,
     "metadata": {},
     "output_type": "execute_result"
    }
   ],
   "source": [
    "#6\n",
    "id_volume = col_names.index(\"Volume\")\n",
    "volumes = [i[id_volume] for i in data_2017]\n",
    "\n",
    "# A:\n",
    "sum(volumes)/len(volumes)"
   ]
  },
  {
   "cell_type": "code",
   "execution_count": 187,
   "metadata": {},
   "outputs": [
    {
     "name": "stdout",
     "output_type": "stream",
     "text": [
      "13860113.0\n",
      "14540013.0\n"
     ]
    }
   ],
   "source": [
    "#7\n",
    "volumes.sort()\n",
    "\n",
    "# A:\n",
    "print(volumes[floor((len(volumes) + 1) * 0.5) - 1])"
   ]
  }
 ],
 "metadata": {
  "interpreter": {
   "hash": "7635eb1b9d0fe97add78a7368b6b431c09bb8ad5c42e437d64abdd99821c31ae"
  },
  "kernelspec": {
   "display_name": "Python 3 (ipykernel)",
   "language": "python",
   "name": "python3"
  },
  "language_info": {
   "codemirror_mode": {
    "name": "ipython",
    "version": 3
   },
   "file_extension": ".py",
   "mimetype": "text/x-python",
   "name": "python",
   "nbconvert_exporter": "python",
   "pygments_lexer": "ipython3",
   "version": "3.10.9"
  }
 },
 "nbformat": 4,
 "nbformat_minor": 4
}
