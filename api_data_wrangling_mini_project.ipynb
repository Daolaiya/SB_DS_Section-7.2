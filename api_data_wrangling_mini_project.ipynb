{
 "cells": [
  {
   "cell_type": "markdown",
   "metadata": {},
   "source": [
    "# Section 7.2 - API Mini-Project"
   ]
  },
  {
   "cell_type": "markdown",
   "metadata": {},
   "source": [
    "This exercise will require you to pull some data from https://data.nasdaq.com/ (formerly Quandl API)."
   ]
  },
  {
   "cell_type": "markdown",
   "metadata": {},
   "source": [
    "As a first step, you will need to register a free account on the https://data.nasdaq.com/ website."
   ]
  },
  {
   "cell_type": "markdown",
   "metadata": {},
   "source": [
    "After you register, you will be provided with a unique API key, that you should store:\n",
    "\n",
    "*Note*: Use a `.env` file and put your key in there and `python-dotenv` to access it in this notebook. \n",
    "\n",
    "The code below uses a key that was used when generating this project but has since been deleted. Never submit your keys to source control. There is a `.env-example` file in this repository to illusrtate what you need. Copy that to a file called `.env` and use your own api key in that `.env` file. Make sure you also have a `.gitignore` file with a line for `.env` added to it. \n",
    "\n",
    "The standard Python gitignore is [here](https://github.com/github/gitignore/blob/master/Python.gitignore) you can just copy that. "
   ]
  },
  {
   "cell_type": "code",
   "execution_count": null,
   "metadata": {},
   "outputs": [],
   "source": [
    "# get api key from your .env file\n",
    "import os\n",
    "import csv\n",
    "from dotenv import load_dotenv\n",
    "\n",
    "load_dotenv()\n",
    "API_KEY = os.getenv('NASDAQ_API_KEY')\n",
    "\n",
    "print(API_KEY)"
   ]
  },
  {
   "cell_type": "markdown",
   "metadata": {},
   "source": [
    "Nasdaq Data has a large number of data sources, but, unfortunately, most of them require a Premium subscription. Still, there are also a good number of free datasets."
   ]
  },
  {
   "cell_type": "markdown",
   "metadata": {},
   "source": [
    "For this mini project, we will focus on equities data from the Frankfurt Stock Exhange (FSE), which is available for free. We'll try and analyze the stock prices of a company called Carl Zeiss Meditec, which manufactures tools for eye examinations, as well as medical lasers for laser eye surgery: https://www.zeiss.com/meditec/int/home.html. The company is listed under the stock ticker AFX_X."
   ]
  },
  {
   "cell_type": "markdown",
   "metadata": {},
   "source": [
    "You can find the detailed Nasdaq Data API instructions here: https://docs.data.nasdaq.com/docs/in-depth-usage"
   ]
  },
  {
   "cell_type": "markdown",
   "metadata": {},
   "source": [
    "While there is a dedicated Python package for connecting to the Nasdaq API, we would prefer that you use the *requests* package, which can be easily downloaded using *pip* or *conda*. You can find the documentation for the package here: http://docs.python-requests.org/en/master/ "
   ]
  },
  {
   "cell_type": "markdown",
   "metadata": {},
   "source": [
    "Finally, apart from the *requests* package, you are encouraged to not use any third party Python packages, such as *pandas*, and instead focus on what's available in the Python Standard Library (the *collections* module might come in handy: https://pymotw.com/3/collections/).\n",
    "Also, since you won't have access to DataFrames, you are encouraged to us Python's native data structures - preferably dictionaries, though some questions can also be answered using lists.\n",
    "You can read more on these data structures here: https://docs.python.org/3/tutorial/datastructures.html"
   ]
  },
  {
   "cell_type": "markdown",
   "metadata": {},
   "source": [
    "Keep in mind that the JSON responses you will be getting from the API map almost one-to-one to Python's dictionaries. Unfortunately, they can be very nested, so make sure you read up on indexing dictionaries in the documentation provided above."
   ]
  },
  {
   "cell_type": "code",
   "execution_count": null,
   "metadata": {},
   "outputs": [],
   "source": [
    "# First, import the relevant modules\n",
    "import requests\n",
    "from copy import deepcopy\n",
    "from math import floor"
   ]
  },
  {
   "cell_type": "markdown",
   "metadata": {},
   "source": [
    "Note: API's can change a bit with each version, for this exercise it is reccomended to use the nasdaq api at `https://data.nasdaq.com/api/v3/`. This is the same api as what used to be quandl so `https://www.quandl.com/api/v3/` should work too.\n",
    "\n",
    "Hint: We are looking for the `AFX_X` data on the `datasets/FSE/` dataset."
   ]
  },
  {
   "cell_type": "code",
   "execution_count": null,
   "metadata": {},
   "outputs": [],
   "source": [
    "# Now, call the Nasdaq API and pull out a small sample of the data (only one day) to get a glimpse\n",
    "# into the JSON structure that will be returned\n",
    "\n",
    "# url = f\"https://data.nasdaq.com/api/v3/datasets/WIKI/FB/data.json?api_key={API_KEY}\"\n",
    "url = f\"https://data.nasdaq.com/api/v3/datasets/FSE/AFX_X/data.json?api_key={API_KEY}\"\n",
    "res = requests.get(url)"
   ]
  },
  {
   "cell_type": "code",
   "execution_count": null,
   "metadata": {},
   "outputs": [],
   "source": [
    "output = res.json()\n",
    "o_copy = deepcopy(output[\"dataset_data\"])\n",
    "o_data = o_copy[\"data\"]\n",
    "o_copy.pop(\"data\")\n",
    "col_names = o_copy[\"column_names\"]\n",
    "col_names"
   ]
  },
  {
   "cell_type": "code",
   "execution_count": null,
   "metadata": {},
   "outputs": [],
   "source": [
    "# with open(\"output.csv\", \"w\") as f:\n",
    "#     writer = csv.writer(f)\n",
    "#     # writer.writerows(col_names)\n",
    "#     writer.writerows(o_data)"
   ]
  },
  {
   "cell_type": "code",
   "execution_count": null,
   "metadata": {},
   "outputs": [],
   "source": [
    "# Inspect the JSON structure of the object you created, and take note of how nested it is,\n",
    "# as well as the overall structure"
   ]
  },
  {
   "cell_type": "markdown",
   "metadata": {},
   "source": [
    "These are your tasks for this mini project:\n",
    "\n",
    "1. Collect data from the Franfurt Stock Exchange, for the ticker AFX_X, for the whole year 2017 (keep in mind that the date format is YYYY-MM-DD).\n",
    "2. Convert the returned JSON object into a Python dictionary.\n",
    "3. Calculate what the highest and lowest opening prices were for the stock in this period.\n",
    "4. What was the largest change in any one day (based on High and Low price)?\n",
    "5. What was the largest change between any two days (based on Closing Price)?\n",
    "6. What was the average daily trading volume during this year?\n",
    "7. (Optional) What was the median trading volume during this year. (Note: you may need to implement your own function for calculating the median.)"
   ]
  },
  {
   "cell_type": "code",
   "execution_count": null,
   "metadata": {},
   "outputs": [],
   "source": [
    "#1\n",
    "def get_all_year(year,data):\n",
    "    temp = []\n",
    "    \n",
    "    for i in data:\n",
    "        if i[0][0:4] == year:\n",
    "            temp.append(i)\n",
    "    \n",
    "    return temp\n",
    "\n",
    "# A:\n",
    "data_2017 = get_all_year(\"2017\",o_data)\n",
    "print(data_2017)"
   ]
  },
  {
   "cell_type": "code",
   "execution_count": null,
   "metadata": {},
   "outputs": [],
   "source": [
    "#2\n",
    "\n",
    "# A:\n",
    "#NOTE: This was already done with the .json() method above"
   ]
  },
  {
   "cell_type": "code",
   "execution_count": null,
   "metadata": {},
   "outputs": [],
   "source": [
    "#3\n",
    "\n",
    "def get_all(column,columns,data):\n",
    "    ind = columns.index(column)\n",
    "    temp = []\n",
    "    \n",
    "    for i in data:\n",
    "        if i[ind] != None:\n",
    "            temp.append(i[ind])\n",
    "    \n",
    "    return temp\n",
    "\n",
    "# A:\n",
    "print(max(get_all(\"Open\",col_names,data_2017)),min(get_all(\"Open\",col_names,data_2017)),sep=\"\\n\")"
   ]
  },
  {
   "cell_type": "code",
   "execution_count": null,
   "metadata": {},
   "outputs": [],
   "source": [
    "#4 --> For 2017\n",
    "id_high = col_names.index(\"High\")\n",
    "id_low = col_names.index(\"Low\")\n",
    "hld_1 = []\n",
    "\n",
    "for i in range(len(data_2017)):\n",
    "    record = data_2017[i]\n",
    "    low = record[id_low]\n",
    "    high = record[id_high]\n",
    "    if (not not low) and (not not high):\n",
    "        diff = abs(high - low)\n",
    "        hld_1.append(diff)\n",
    "        # print(i,high,low,diff,sep=\" | \")\n",
    "\n",
    "# A:\n",
    "print(\"  MAX:  \",max(hld_1))"
   ]
  },
  {
   "cell_type": "code",
   "execution_count": null,
   "metadata": {},
   "outputs": [],
   "source": [
    "# #4 --> For entire data set\n",
    "# id_high = col_names.index(\"High\")\n",
    "# id_low = col_names.index(\"Low\")\n",
    "# hld_1 = []\n",
    "\n",
    "# for i in range(len(o_data)):\n",
    "#     record = o_data[i]\n",
    "#     low = record[id_low]\n",
    "#     high = record[id_high]\n",
    "#     if not not low and not not high:\n",
    "#         diff = abs(high - low)\n",
    "#         hld_1.append(diff)\n",
    "#         print(i,high,low,diff,sep=\" | \")\n",
    "\n",
    "# # A:\n",
    "# # max(high_low_diff)\n",
    "\n",
    "# print(\"  MAX:  \",max(hld_1))"
   ]
  },
  {
   "cell_type": "code",
   "execution_count": null,
   "metadata": {},
   "outputs": [],
   "source": [
    "#5\n",
    "id_close = col_names.index(\"Close\")\n",
    "day_to_day_diffs = []\n",
    "\n",
    "for i in range(0,len(data_2017)-1):\n",
    "    x = data_2017[i][id_close] - data_2017[i+1][id_close]\n",
    "    day_to_day_diffs.append(abs(x))\n",
    "    # print(data_2017[i][id_close],data_2017[i+1][id_close],x,sep=\" | \")\n",
    "\n",
    "# A:\n",
    "max(day_to_day_diffs)"
   ]
  },
  {
   "cell_type": "code",
   "execution_count": null,
   "metadata": {},
   "outputs": [],
   "source": [
    "#6\n",
    "id_volume = col_names.index(\"Traded Volume\")\n",
    "volumes = [i[id_volume] for i in data_2017]\n",
    "\n",
    "# A:\n",
    "sum(volumes)/len(volumes)"
   ]
  },
  {
   "cell_type": "code",
   "execution_count": null,
   "metadata": {},
   "outputs": [],
   "source": [
    "#7\n",
    "volumes_copy = volumes[:]\n",
    "volumes_copy.sort()\n",
    "\n",
    "# A:\n",
    "print(volumes_copy[floor((len(volumes_copy) + 1) * 0.5) - 1])"
   ]
  }
 ],
 "metadata": {
  "interpreter": {
   "hash": "7635eb1b9d0fe97add78a7368b6b431c09bb8ad5c42e437d64abdd99821c31ae"
  },
  "kernelspec": {
   "display_name": "Python 3 (ipykernel)",
   "language": "python",
   "name": "python3"
  },
  "language_info": {
   "codemirror_mode": {
    "name": "ipython",
    "version": 3
   },
   "file_extension": ".py",
   "mimetype": "text/x-python",
   "name": "python",
   "nbconvert_exporter": "python",
   "pygments_lexer": "ipython3",
   "version": "3.10.9"
  }
 },
 "nbformat": 4,
 "nbformat_minor": 4
}
